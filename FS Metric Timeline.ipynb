{
 "cells": [
  {
   "cell_type": "markdown",
   "metadata": {
    "slideshow": {
     "slide_type": "slide"
    }
   },
   "source": [
    "# Fivestar Major Metrics\n",
    "\n",
    "This notebook is to show the major metrics of FiveStar, and display the timeline for each major metric."
   ]
  },
  {
   "cell_type": "markdown",
   "metadata": {
    "slideshow": {
     "slide_type": "subslide"
    }
   },
   "source": [
    "## Major Metrics"
   ]
  },
  {
   "cell_type": "code",
   "execution_count": 80,
   "metadata": {
    "collapsed": false,
    "slideshow": {
     "slide_type": "subslide"
    }
   },
   "outputs": [
    {
     "data": {
      "text/html": [
       "<div>\n",
       "<table border=\"1\" class=\"dataframe\">\n",
       "  <thead>\n",
       "    <tr style=\"text-align: right;\">\n",
       "      <th></th>\n",
       "      <th>Metric Name</th>\n",
       "      <th>20160219</th>\n",
       "      <th>20160226</th>\n",
       "      <th>20160304</th>\n",
       "      <th>20160311</th>\n",
       "    </tr>\n",
       "  </thead>\n",
       "  <tbody>\n",
       "    <tr>\n",
       "      <th>0</th>\n",
       "      <td>Store Count</td>\n",
       "      <td>8945</td>\n",
       "      <td>9033</td>\n",
       "      <td>9053</td>\n",
       "      <td>9101</td>\n",
       "    </tr>\n",
       "    <tr>\n",
       "      <th>1</th>\n",
       "      <td>|----New Store Count</td>\n",
       "      <td>8945</td>\n",
       "      <td>186</td>\n",
       "      <td>182</td>\n",
       "      <td>179</td>\n",
       "    </tr>\n",
       "    <tr>\n",
       "      <th>2</th>\n",
       "      <td>|----Lose Store Count</td>\n",
       "      <td>0</td>\n",
       "      <td>98</td>\n",
       "      <td>162</td>\n",
       "      <td>131</td>\n",
       "    </tr>\n",
       "    <tr>\n",
       "      <th>3</th>\n",
       "      <td>|----Delta Store Count</td>\n",
       "      <td>8945</td>\n",
       "      <td>88</td>\n",
       "      <td>20</td>\n",
       "      <td>48</td>\n",
       "    </tr>\n",
       "    <tr>\n",
       "      <th>4</th>\n",
       "      <td>Merchant Count</td>\n",
       "      <td>7029</td>\n",
       "      <td>7084</td>\n",
       "      <td>7088</td>\n",
       "      <td>7125</td>\n",
       "    </tr>\n",
       "    <tr>\n",
       "      <th>5</th>\n",
       "      <td>|----New Merchant Count</td>\n",
       "      <td>7029</td>\n",
       "      <td>144</td>\n",
       "      <td>141</td>\n",
       "      <td>153</td>\n",
       "    </tr>\n",
       "    <tr>\n",
       "      <th>6</th>\n",
       "      <td>|----Lose Merchant Count</td>\n",
       "      <td>0</td>\n",
       "      <td>89</td>\n",
       "      <td>137</td>\n",
       "      <td>116</td>\n",
       "    </tr>\n",
       "    <tr>\n",
       "      <th>7</th>\n",
       "      <td>|----Delta Merchant Count</td>\n",
       "      <td>7029</td>\n",
       "      <td>55</td>\n",
       "      <td>4</td>\n",
       "      <td>37</td>\n",
       "    </tr>\n",
       "    <tr>\n",
       "      <th>8</th>\n",
       "      <td>Counry Count</td>\n",
       "      <td>3</td>\n",
       "      <td>3</td>\n",
       "      <td>3</td>\n",
       "      <td>3</td>\n",
       "    </tr>\n",
       "    <tr>\n",
       "      <th>9</th>\n",
       "      <td>|----New Country Count</td>\n",
       "      <td>3</td>\n",
       "      <td>0</td>\n",
       "      <td>0</td>\n",
       "      <td>0</td>\n",
       "    </tr>\n",
       "    <tr>\n",
       "      <th>10</th>\n",
       "      <td>|----Lose Country Count</td>\n",
       "      <td>0</td>\n",
       "      <td>0</td>\n",
       "      <td>0</td>\n",
       "      <td>0</td>\n",
       "    </tr>\n",
       "    <tr>\n",
       "      <th>11</th>\n",
       "      <td>|----Delta Country Count</td>\n",
       "      <td>3</td>\n",
       "      <td>0</td>\n",
       "      <td>0</td>\n",
       "      <td>0</td>\n",
       "    </tr>\n",
       "    <tr>\n",
       "      <th>12</th>\n",
       "      <td>City Count</td>\n",
       "      <td>2304</td>\n",
       "      <td>2315</td>\n",
       "      <td>2307</td>\n",
       "      <td>2311</td>\n",
       "    </tr>\n",
       "    <tr>\n",
       "      <th>13</th>\n",
       "      <td>|----New City Count</td>\n",
       "      <td>2304</td>\n",
       "      <td>26</td>\n",
       "      <td>27</td>\n",
       "      <td>32</td>\n",
       "    </tr>\n",
       "    <tr>\n",
       "      <th>14</th>\n",
       "      <td>|----Lose City Count</td>\n",
       "      <td>0</td>\n",
       "      <td>13</td>\n",
       "      <td>34</td>\n",
       "      <td>27</td>\n",
       "    </tr>\n",
       "    <tr>\n",
       "      <th>15</th>\n",
       "      <td>|----Delta City Count</td>\n",
       "      <td>2304</td>\n",
       "      <td>13</td>\n",
       "      <td>-7</td>\n",
       "      <td>5</td>\n",
       "    </tr>\n",
       "    <tr>\n",
       "      <th>16</th>\n",
       "      <td>Memberships</td>\n",
       "      <td>11821996</td>\n",
       "      <td>11960521</td>\n",
       "      <td>12100630</td>\n",
       "      <td>12263345</td>\n",
       "    </tr>\n",
       "    <tr>\n",
       "      <th>17</th>\n",
       "      <td>|----Delta Memberships</td>\n",
       "      <td>NaN</td>\n",
       "      <td>138525</td>\n",
       "      <td>140109</td>\n",
       "      <td>162715</td>\n",
       "    </tr>\n",
       "    <tr>\n",
       "      <th>18</th>\n",
       "      <td>Stores with Social Network</td>\n",
       "      <td>2550</td>\n",
       "      <td>2566</td>\n",
       "      <td>2590</td>\n",
       "      <td>2605</td>\n",
       "    </tr>\n",
       "    <tr>\n",
       "      <th>19</th>\n",
       "      <td>|----Delta Stores with Social Netork</td>\n",
       "      <td>NaN</td>\n",
       "      <td>16</td>\n",
       "      <td>24</td>\n",
       "      <td>15</td>\n",
       "    </tr>\n",
       "  </tbody>\n",
       "</table>\n",
       "</div>"
      ],
      "text/plain": [
       "                             Metric Name  20160219  20160226  20160304  \\\n",
       "0                            Store Count      8945      9033      9053   \n",
       "1                   |----New Store Count      8945       186       182   \n",
       "2                  |----Lose Store Count         0        98       162   \n",
       "3                 |----Delta Store Count      8945        88        20   \n",
       "4                         Merchant Count      7029      7084      7088   \n",
       "5                |----New Merchant Count      7029       144       141   \n",
       "6               |----Lose Merchant Count         0        89       137   \n",
       "7              |----Delta Merchant Count      7029        55         4   \n",
       "8                           Counry Count         3         3         3   \n",
       "9                 |----New Country Count         3         0         0   \n",
       "10               |----Lose Country Count         0         0         0   \n",
       "11              |----Delta Country Count         3         0         0   \n",
       "12                            City Count      2304      2315      2307   \n",
       "13                   |----New City Count      2304        26        27   \n",
       "14                  |----Lose City Count         0        13        34   \n",
       "15                 |----Delta City Count      2304        13        -7   \n",
       "16                           Memberships  11821996  11960521  12100630   \n",
       "17                |----Delta Memberships       NaN    138525    140109   \n",
       "18            Stores with Social Network      2550      2566      2590   \n",
       "19  |----Delta Stores with Social Netork       NaN        16        24   \n",
       "\n",
       "    20160311  \n",
       "0       9101  \n",
       "1        179  \n",
       "2        131  \n",
       "3         48  \n",
       "4       7125  \n",
       "5        153  \n",
       "6        116  \n",
       "7         37  \n",
       "8          3  \n",
       "9          0  \n",
       "10         0  \n",
       "11         0  \n",
       "12      2311  \n",
       "13        32  \n",
       "14        27  \n",
       "15         5  \n",
       "16  12263345  \n",
       "17    162715  \n",
       "18      2605  \n",
       "19        15  "
      ]
     },
     "execution_count": 80,
     "metadata": {},
     "output_type": "execute_result"
    }
   ],
   "source": [
    "import MySQLdb\n",
    "conn = MySQLdb.connect(host='qa-rds.cga0dqtgwsqk.us-west-2.rds.amazonaws.com', user='root', db='y-upster', passwd='oceanwing')\n",
    "cursor = conn.cursor()\n",
    "\n",
    "import plotly.plotly as py\n",
    "import plotly.graph_objs as go\n",
    "py.sign_in('FangwenYu', 'in8lq23u70')\n",
    "\n",
    "def format_ds(ds):\n",
    "    return '{}/{}/{}'.format(ds[:4], ds[4:6], ds[6:])\n",
    "\n",
    "# Metric Name\n",
    "cursor.execute(\"select metric_name from report_fs_metric_stats where ds='20160219' order by seq\")\n",
    "metric_names = cursor.fetchall()\n",
    "data = {}\n",
    "data['Metric Name'] = [value[0] for value in metric_names]\n",
    "columns = ['Metric Name']\n",
    "cursor.execute('select distinct ds from report_fs_metric_stats order by ds')\n",
    "ds_list = cursor.fetchall()\n",
    "\n",
    "for ds in ds_list:\n",
    "    curr_ds = ds[0]\n",
    "    sql = \"select metric_value from report_fs_metric_stats where ds='{}' order by seq\".format(curr_ds)\n",
    "    cursor.execute(sql)\n",
    "    values= cursor.fetchall()\n",
    "    data[curr_ds] = [value[0] for value in values]   \n",
    "    columns.append(curr_ds)\n",
    "\n",
    "import pandas as pd\n",
    "df = pd.DataFrame(data, columns=columns)\n",
    "df.head(20)\n"
   ]
  },
  {
   "cell_type": "markdown",
   "metadata": {
    "slideshow": {
     "slide_type": "subslide"
    }
   },
   "source": [
    "## Metric Timeline\n",
    "\n",
    "### 1. Store Count"
   ]
  },
  {
   "cell_type": "code",
   "execution_count": 83,
   "metadata": {
    "collapsed": false,
    "slideshow": {
     "slide_type": "subslide"
    }
   },
   "outputs": [
    {
     "data": {
      "text/html": [
       "<div>\n",
       "<table border=\"1\" class=\"dataframe\">\n",
       "  <thead>\n",
       "    <tr style=\"text-align: right;\">\n",
       "      <th></th>\n",
       "      <th>Report Date</th>\n",
       "      <th>Store Count</th>\n",
       "    </tr>\n",
       "  </thead>\n",
       "  <tbody>\n",
       "    <tr>\n",
       "      <th>0</th>\n",
       "      <td>2016/02/19</td>\n",
       "      <td>8945</td>\n",
       "    </tr>\n",
       "    <tr>\n",
       "      <th>1</th>\n",
       "      <td>2016/02/26</td>\n",
       "      <td>9033</td>\n",
       "    </tr>\n",
       "    <tr>\n",
       "      <th>2</th>\n",
       "      <td>2016/03/04</td>\n",
       "      <td>9053</td>\n",
       "    </tr>\n",
       "    <tr>\n",
       "      <th>3</th>\n",
       "      <td>2016/03/11</td>\n",
       "      <td>9101</td>\n",
       "    </tr>\n",
       "  </tbody>\n",
       "</table>\n",
       "</div>"
      ],
      "text/plain": [
       "  Report Date  Store Count\n",
       "0  2016/02/19         8945\n",
       "1  2016/02/26         9033\n",
       "2  2016/03/04         9053\n",
       "3  2016/03/11         9101"
      ]
     },
     "execution_count": 83,
     "metadata": {},
     "output_type": "execute_result"
    }
   ],
   "source": [
    "report_date = 'Report Date'\n",
    "metric_name='Store Count'\n",
    "sql = \"\"\"select ds as \"Report Date\", metric_value as \"{}\" from report_fs_metric_stats where metric_name='{}' order by ds\"\"\"\n",
    "cursor.execute(sql.format(metric_name, metric_name))\n",
    "store_cnt = cursor.fetchall()\n",
    "metric_values = [[format_ds(value[0]), value[1]] for value in store_cnt]\n",
    "\n",
    "df = pd.DataFrame(metric_values, columns=['Report Date', metric_name])\n",
    "df.head(20)\n",
    "\n"
   ]
  },
  {
   "cell_type": "code",
   "execution_count": 84,
   "metadata": {
    "collapsed": false,
    "slideshow": {
     "slide_type": "subslide"
    }
   },
   "outputs": [
    {
     "data": {
      "text/html": [
       "<iframe id=\"igraph\" scrolling=\"no\" style=\"border:none;\" seamless=\"seamless\" src=\"https://plot.ly/~FangwenYu/2.embed\" height=\"525px\" width=\"100%\"></iframe>"
      ],
      "text/plain": [
       "<plotly.tools.PlotlyDisplay object>"
      ]
     },
     "execution_count": 84,
     "metadata": {},
     "output_type": "execute_result"
    }
   ],
   "source": [
    "trace = go.Scatter(\n",
    "    x = df[report_date],\n",
    "    y = df[metric_name],\n",
    "    mode = 'lines+markers'\n",
    ")\n",
    "\n",
    "layout = dict(title = 'Fivestar {} Timeline'.format(metric_name),\n",
    "              xaxis = dict(title = report_date),\n",
    "              yaxis = dict(title = metric_name),\n",
    "              )\n",
    "\n",
    "fig = dict(data=[trace], layout=layout)\n",
    "py.iplot(fig, filename='FS {} Timeline'.format(metric_name))"
   ]
  },
  {
   "cell_type": "markdown",
   "metadata": {
    "slideshow": {
     "slide_type": "subslide"
    }
   },
   "source": [
    "### 2. Merchat Count"
   ]
  },
  {
   "cell_type": "code",
   "execution_count": 67,
   "metadata": {
    "collapsed": false,
    "slideshow": {
     "slide_type": "subslide"
    }
   },
   "outputs": [
    {
     "data": {
      "text/html": [
       "<div>\n",
       "<table border=\"1\" class=\"dataframe\">\n",
       "  <thead>\n",
       "    <tr style=\"text-align: right;\">\n",
       "      <th></th>\n",
       "      <th>Report Date</th>\n",
       "      <th>Merchant Count</th>\n",
       "    </tr>\n",
       "  </thead>\n",
       "  <tbody>\n",
       "    <tr>\n",
       "      <th>0</th>\n",
       "      <td>2016/02/19</td>\n",
       "      <td>7029</td>\n",
       "    </tr>\n",
       "    <tr>\n",
       "      <th>1</th>\n",
       "      <td>2016/02/26</td>\n",
       "      <td>7084</td>\n",
       "    </tr>\n",
       "    <tr>\n",
       "      <th>2</th>\n",
       "      <td>2016/03/04</td>\n",
       "      <td>7088</td>\n",
       "    </tr>\n",
       "    <tr>\n",
       "      <th>3</th>\n",
       "      <td>2016/03/11</td>\n",
       "      <td>7125</td>\n",
       "    </tr>\n",
       "  </tbody>\n",
       "</table>\n",
       "</div>"
      ],
      "text/plain": [
       "  Report Date  Merchant Count\n",
       "0  2016/02/19            7029\n",
       "1  2016/02/26            7084\n",
       "2  2016/03/04            7088\n",
       "3  2016/03/11            7125"
      ]
     },
     "execution_count": 67,
     "metadata": {},
     "output_type": "execute_result"
    }
   ],
   "source": [
    "metric_name='Merchant Count'\n",
    "sql = \"\"\"select ds as \"Report Date\", metric_value as \"{}\" from report_fs_metric_stats where metric_name='{}' order by ds\"\"\"\n",
    "cursor.execute(sql.format(metric_name, metric_name))\n",
    "store_cnt = cursor.fetchall()\n",
    "metric_values = [[format_ds(value[0]), value[1]] for value in store_cnt]\n",
    "\n",
    "df = pd.DataFrame(metric_values, columns=['Report Date', metric_name])\n",
    "df.head(20)\n"
   ]
  },
  {
   "cell_type": "code",
   "execution_count": 85,
   "metadata": {
    "collapsed": false,
    "slideshow": {
     "slide_type": "subslide"
    }
   },
   "outputs": [
    {
     "data": {
      "text/html": [
       "<iframe id=\"igraph\" scrolling=\"no\" style=\"border:none;\" seamless=\"seamless\" src=\"https://plot.ly/~FangwenYu/2.embed\" height=\"525px\" width=\"100%\"></iframe>"
      ],
      "text/plain": [
       "<plotly.tools.PlotlyDisplay object>"
      ]
     },
     "execution_count": 85,
     "metadata": {},
     "output_type": "execute_result"
    }
   ],
   "source": [
    "trace = go.Scatter(\n",
    "    x = df[report_date],\n",
    "    y = df[metric_name],\n",
    "    mode = 'lines+markers'\n",
    ")\n",
    "\n",
    "layout = dict(title = 'Fivestar {} Timeline'.format(metric_name),\n",
    "              xaxis = dict(title = report_date),\n",
    "              yaxis = dict(title = metric_name),\n",
    "              )\n",
    "\n",
    "fig = dict(data=[trace], layout=layout)\n",
    "py.iplot(fig, filename='FS {} Timeline'.format(metric_name))"
   ]
  },
  {
   "cell_type": "markdown",
   "metadata": {
    "slideshow": {
     "slide_type": "subslide"
    }
   },
   "source": [
    "### 3. Membership Count"
   ]
  },
  {
   "cell_type": "code",
   "execution_count": 72,
   "metadata": {
    "collapsed": false,
    "slideshow": {
     "slide_type": "subslide"
    }
   },
   "outputs": [
    {
     "data": {
      "text/html": [
       "<div>\n",
       "<table border=\"1\" class=\"dataframe\">\n",
       "  <thead>\n",
       "    <tr style=\"text-align: right;\">\n",
       "      <th></th>\n",
       "      <th>Report Date</th>\n",
       "      <th>Memberships</th>\n",
       "    </tr>\n",
       "  </thead>\n",
       "  <tbody>\n",
       "    <tr>\n",
       "      <th>0</th>\n",
       "      <td>2016/02/19</td>\n",
       "      <td>11821996</td>\n",
       "    </tr>\n",
       "    <tr>\n",
       "      <th>1</th>\n",
       "      <td>2016/02/26</td>\n",
       "      <td>11960521</td>\n",
       "    </tr>\n",
       "    <tr>\n",
       "      <th>2</th>\n",
       "      <td>2016/03/04</td>\n",
       "      <td>12100630</td>\n",
       "    </tr>\n",
       "    <tr>\n",
       "      <th>3</th>\n",
       "      <td>2016/03/11</td>\n",
       "      <td>12263345</td>\n",
       "    </tr>\n",
       "  </tbody>\n",
       "</table>\n",
       "</div>"
      ],
      "text/plain": [
       "  Report Date  Memberships\n",
       "0  2016/02/19     11821996\n",
       "1  2016/02/26     11960521\n",
       "2  2016/03/04     12100630\n",
       "3  2016/03/11     12263345"
      ]
     },
     "execution_count": 72,
     "metadata": {},
     "output_type": "execute_result"
    }
   ],
   "source": [
    "metric_name='Memberships'\n",
    "sql = \"\"\"select ds as \"Report Date\", metric_value as \"{}\" from report_fs_metric_stats where metric_name='{}' order by ds\"\"\"\n",
    "cursor.execute(sql.format(metric_name, metric_name))\n",
    "store_cnt = cursor.fetchall()\n",
    "metric_values = [[format_ds(value[0]), value[1]] for value in store_cnt]\n",
    "\n",
    "df = pd.DataFrame(metric_values, columns=['Report Date', metric_name])\n",
    "df.head(20)"
   ]
  },
  {
   "cell_type": "code",
   "execution_count": 86,
   "metadata": {
    "collapsed": false,
    "slideshow": {
     "slide_type": "subslide"
    }
   },
   "outputs": [
    {
     "data": {
      "text/html": [
       "<iframe id=\"igraph\" scrolling=\"no\" style=\"border:none;\" seamless=\"seamless\" src=\"https://plot.ly/~FangwenYu/2.embed\" height=\"525px\" width=\"100%\"></iframe>"
      ],
      "text/plain": [
       "<plotly.tools.PlotlyDisplay object>"
      ]
     },
     "execution_count": 86,
     "metadata": {},
     "output_type": "execute_result"
    }
   ],
   "source": [
    "trace = go.Scatter(\n",
    "    x = df[report_date],\n",
    "    y = df[metric_name],\n",
    "    mode = 'lines+markers'\n",
    ")\n",
    "\n",
    "layout = dict(title = 'Fivestar {} Timeline'.format(metric_name),\n",
    "              xaxis = dict(title = report_date),\n",
    "              yaxis = dict(title = metric_name),\n",
    "              )\n",
    "\n",
    "fig = dict(data=[trace], layout=layout)\n",
    "py.iplot(fig, filename='FS {} Timeline'.format(metric_name))"
   ]
  },
  {
   "cell_type": "markdown",
   "metadata": {
    "slideshow": {
     "slide_type": "subslide"
    }
   },
   "source": [
    "### 4. City Count"
   ]
  },
  {
   "cell_type": "code",
   "execution_count": 74,
   "metadata": {
    "collapsed": false,
    "slideshow": {
     "slide_type": "subslide"
    }
   },
   "outputs": [
    {
     "data": {
      "text/html": [
       "<div>\n",
       "<table border=\"1\" class=\"dataframe\">\n",
       "  <thead>\n",
       "    <tr style=\"text-align: right;\">\n",
       "      <th></th>\n",
       "      <th>Report Date</th>\n",
       "      <th>City Count</th>\n",
       "    </tr>\n",
       "  </thead>\n",
       "  <tbody>\n",
       "    <tr>\n",
       "      <th>0</th>\n",
       "      <td>2016/02/19</td>\n",
       "      <td>2304</td>\n",
       "    </tr>\n",
       "    <tr>\n",
       "      <th>1</th>\n",
       "      <td>2016/02/26</td>\n",
       "      <td>2315</td>\n",
       "    </tr>\n",
       "    <tr>\n",
       "      <th>2</th>\n",
       "      <td>2016/03/04</td>\n",
       "      <td>2307</td>\n",
       "    </tr>\n",
       "    <tr>\n",
       "      <th>3</th>\n",
       "      <td>2016/03/11</td>\n",
       "      <td>2311</td>\n",
       "    </tr>\n",
       "  </tbody>\n",
       "</table>\n",
       "</div>"
      ],
      "text/plain": [
       "  Report Date  City Count\n",
       "0  2016/02/19        2304\n",
       "1  2016/02/26        2315\n",
       "2  2016/03/04        2307\n",
       "3  2016/03/11        2311"
      ]
     },
     "execution_count": 74,
     "metadata": {},
     "output_type": "execute_result"
    }
   ],
   "source": [
    "metric_name='City Count'\n",
    "sql = \"\"\"select ds as \"Report Date\", metric_value as \"{}\" from report_fs_metric_stats where metric_name='{}' order by ds\"\"\"\n",
    "cursor.execute(sql.format(metric_name, metric_name))\n",
    "store_cnt = cursor.fetchall()\n",
    "metric_values = [[format_ds(value[0]), value[1]] for value in store_cnt]\n",
    "\n",
    "df = pd.DataFrame(metric_values, columns=['Report Date', metric_name])\n",
    "df.head(20)"
   ]
  },
  {
   "cell_type": "code",
   "execution_count": 87,
   "metadata": {
    "collapsed": false,
    "slideshow": {
     "slide_type": "subslide"
    }
   },
   "outputs": [
    {
     "data": {
      "text/html": [
       "<iframe id=\"igraph\" scrolling=\"no\" style=\"border:none;\" seamless=\"seamless\" src=\"https://plot.ly/~FangwenYu/2.embed\" height=\"525px\" width=\"100%\"></iframe>"
      ],
      "text/plain": [
       "<plotly.tools.PlotlyDisplay object>"
      ]
     },
     "execution_count": 87,
     "metadata": {},
     "output_type": "execute_result"
    }
   ],
   "source": [
    "trace = go.Scatter(\n",
    "    x = df[report_date],\n",
    "    y = df[metric_name],\n",
    "    mode = 'lines+markers'\n",
    ")\n",
    "\n",
    "layout = dict(title = 'Fivestar {} Timeline'.format(metric_name),\n",
    "              xaxis = dict(title = report_date),\n",
    "              yaxis = dict(title = metric_name),\n",
    "              )\n",
    "\n",
    "fig = dict(data=[trace], layout=layout)\n",
    "py.iplot(fig, filename='FS {} Timeline'.format(metric_name))"
   ]
  },
  {
   "cell_type": "code",
   "execution_count": null,
   "metadata": {
    "collapsed": true
   },
   "outputs": [],
   "source": []
  }
 ],
 "metadata": {
  "celltoolbar": "Slideshow",
  "kernelspec": {
   "display_name": "Python 2",
   "language": "python",
   "name": "python2"
  },
  "language_info": {
   "codemirror_mode": {
    "name": "ipython",
    "version": 2
   },
   "file_extension": ".py",
   "mimetype": "text/x-python",
   "name": "python",
   "nbconvert_exporter": "python",
   "pygments_lexer": "ipython2",
   "version": "2.7.11"
  }
 },
 "nbformat": 4,
 "nbformat_minor": 0
}
